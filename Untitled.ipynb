{
 "cells": [
  {
   "cell_type": "code",
   "execution_count": 1,
   "metadata": {},
   "outputs": [],
   "source": [
    "from spectra import Spectrum"
   ]
  },
  {
   "cell_type": "code",
   "execution_count": null,
   "metadata": {},
   "outputs": [],
   "source": [
    "spec.fit_mcmc([4861.297761,6562.85175,8498.02,8542.09,8662.14])"
   ]
  },
  {
   "cell_type": "code",
   "execution_count": 3,
   "metadata": {},
   "outputs": [
    {
     "name": "stdout",
     "output_type": "stream",
     "text": [
      "44.184450287750536 +/- 2.3006821578161873 km/s\n",
      "[64.17627336481495, 41.78135812915016, 46.652535426242274, 46.86803643288872, 41.111932418788854]\n",
      "[10.326154800382906, 3.282262973812718, 8.046738871483395, 5.156727293391313, 5.449488044544054]\n"
     ]
    }
   ],
   "source": [
    "spec.gfitting([4861.297761,6562.85175,8498.02,8542.09,8662.14])"
   ]
  },
  {
   "cell_type": "code",
   "execution_count": 6,
   "metadata": {},
   "outputs": [
    {
     "name": "stdout",
     "output_type": "stream",
     "text": [
      "41.257017457644025 +/- 2.9431115737285447 km/s\n",
      "[58.3877131887451, 39.400218044760194, 44.92517376739941]\n",
      "[13.161714853539133, 3.320172368530416, 7.262322226938708]\n"
     ]
    }
   ],
   "source": [
    "spec= Spectrum('src/data-spectrum/third_batch/idid000006156jd2458163p6789f000.fits')\n",
    "spec.gfitting([4861.2978,6562.85175,8498.02,8542.09,8662.14])\n"
   ]
  },
  {
   "cell_type": "code",
   "execution_count": 7,
   "metadata": {},
   "outputs": [
    {
     "data": {
      "text/plain": [
       "{'avg_velocity': 44.69731155795305, 'avg_uncertainty': 1.5635054436323128}"
      ]
     },
     "execution_count": 7,
     "metadata": {},
     "output_type": "execute_result"
    }
   ],
   "source": [
    "spec.fit_mcmc([4861.2978,6562.85175,8498.02,8542.09,8662.14])"
   ]
  },
  {
   "cell_type": "markdown",
   "metadata": {},
   "source": [
    "# Spectrum id6412"
   ]
  },
  {
   "cell_type": "code",
   "execution_count": null,
   "metadata": {},
   "outputs": [
    {
     "name": "stderr",
     "output_type": "stream",
     "text": [
      "/home/weslley/.local/lib/python3.8/site-packages/emcee/moves/red_blue.py:99: RuntimeWarning: invalid value encountered in double_scalars\n",
      "  lnpdiff = f + nlp - state.log_prob[j]\n"
     ]
    }
   ],
   "source": [
    "spec= Spectrum('src/data-spectrum/third_batch/idid000006412jd2458163p6789f000.fits')\n",
    "spec.fit_mcmc([4861.2978,6562.85175,8437.95,8467.26, 8502.49, 8545.38, 8598.39,8665.02, 8750.46, 8862.89])"
   ]
  },
  {
   "cell_type": "code",
   "execution_count": null,
   "metadata": {},
   "outputs": [],
   "source": []
  }
 ],
 "metadata": {
  "kernelspec": {
   "display_name": "Python 3",
   "language": "python",
   "name": "python3"
  },
  "language_info": {
   "codemirror_mode": {
    "name": "ipython",
    "version": 3
   },
   "file_extension": ".py",
   "mimetype": "text/x-python",
   "name": "python",
   "nbconvert_exporter": "python",
   "pygments_lexer": "ipython3",
   "version": "3.8.2"
  }
 },
 "nbformat": 4,
 "nbformat_minor": 4
}
